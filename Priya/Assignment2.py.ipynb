{
 "cells": [
  {
   "cell_type": "code",
   "execution_count": null,
   "id": "f2a8d5da",
   "metadata": {},
   "outputs": [],
   "source": []
  },
  {
   "cell_type": "code",
   "execution_count": 3,
   "id": "31d3b191",
   "metadata": {},
   "outputs": [
    {
     "name": "stdout",
     "output_type": "stream",
     "text": [
      "True\n",
      "False\n"
     ]
    }
   ],
   "source": [
    "#1. Write a Python function that takes a sequence of numbers and determines whether all the numbers are different from each other.\n",
    "\n",
    "def test_distinct(data):\n",
    "      if len(data) == len(set(data)):\n",
    "        return True\n",
    "      else:\n",
    "        return False;\n",
    "print(test_distinct([1,5,7,9]))\n",
    "print(test_distinct([2,4,5,5,7,9]))"
   ]
  },
  {
   "cell_type": "code",
   "execution_count": 5,
   "id": "00c5d81d",
   "metadata": {},
   "outputs": [
    {
     "name": "stdout",
     "output_type": "stream",
     "text": [
      "ieuao\n"
     ]
    }
   ],
   "source": [
    "#2. Write a Python program to create all possible strings by using 'a', 'e', 'i', 'o', 'u'. Use the characters exactly once.\n",
    "import random\n",
    "char_list = ['a','e','i','o','u']\n",
    "random.shuffle(char_list)\n",
    "print(''.join(char_list))"
   ]
  },
  {
   "cell_type": "code",
   "execution_count": 6,
   "id": "7bb3b0c8",
   "metadata": {},
   "outputs": [
    {
     "name": "stdout",
     "output_type": "stream",
     "text": [
      "999\n"
     ]
    }
   ],
   "source": [
    "#5. Write a Python program to create the combinations of 3 digit combo\n",
    "numbers = []\n",
    "for num in range(1000):\n",
    "  num=str(num).zfill(3)\n",
    "print(num)\n",
    "numbers.append(num)"
   ]
  },
  {
   "cell_type": "code",
   "execution_count": 7,
   "id": "66600e4f",
   "metadata": {},
   "outputs": [
    {
     "name": "stdout",
     "output_type": "stream",
     "text": [
      "String:\n",
      " India Republic Day is celebrated on 26 January every year. It was 1950 when Dr. Rajendra Prasad our first president hoisted the tricolor on Rajpath, Delhi. Our first chief guest was the President of Indonesia, Mr. Sukarno. Similarly, in 2021 Boris Johnson, Prime Minister of the United Kingdom was invited as a guest of honor but the planning has been recently canceled due to the corona crisis. Every year we invite various famous personalities to be a part of our celebration.\n",
      "\n",
      "We have been celebrating this occasion since the year 1950 and it has been declared a national holiday. We celebrate this day because we got our constitution on this day. It took 2 years, 11 months, and 18 days to make our constitution and was completed by 26 November 1949. We also celebrate 26 November as our Constitution day. On 26 January 1950, it was announced to enforce our Constitution for the first time.\n",
      "\n",
      "We celebrate this occasion with great enthusiasm and Delhi is the center of the Republic Day celebration. India will celebrate its 73rd Republic Day in the year 2022. The cultural programs will be fewer in number and protocols for COVID-19 will be followed strictly.\n",
      "\n",
      "The programme on Rajpath includes a small Parade by various armed forces that will be fewer in number. Children under the age of 15 are strictly prohibited to attend the ceremony. People every year visit Delhi to see this programme but this year only a few spectators are allowed to watch the event to avoid overcrowding amid the pandemic. We can also watch the live telecast of the programme on the national channel Doordarshan.\n",
      "\n",
      "Generally, schools also celebrate this occasion and organize various programmes. People all over India celebrate this event by hoisting the flag and distributing sweets. Sometimes they also wear tricolors and play patriotic songs and enjoy their day. This year the republic day celebration will be done in the pandemic situation and therefore the way of celebrating the event is changed. It is necessary to remain safe rather than taking risks. \n",
      "\n",
      "List:\n",
      " ['India', 'Republic', 'Day', 'is', 'celebrated', 'on', '26', 'January', 'every', 'year.', 'It', 'was', '1950', 'when', 'Dr.', 'Rajendra', 'Prasad', 'our', 'first', 'president', 'hoisted', 'the', 'tricolor', 'on', 'Rajpath,', 'Delhi.', 'Our', 'first', 'chief', 'guest', 'was', 'the', 'President', 'of', 'Indonesia,', 'Mr.', 'Sukarno.', 'Similarly,', 'in', '2021', 'Boris', 'Johnson,', 'Prime', 'Minister', 'of', 'the', 'United', 'Kingdom', 'was', 'invited', 'as', 'a', 'guest', 'of', 'honor', 'but', 'the', 'planning', 'has', 'been', 'recently', 'canceled', 'due', 'to', 'the', 'corona', 'crisis.', 'Every', 'year', 'we', 'invite', 'various', 'famous', 'personalities', 'to', 'be', 'a', 'part', 'of', 'our', 'celebration.', 'We', 'have', 'been', 'celebrating', 'this', 'occasion', 'since', 'the', 'year', '1950', 'and', 'it', 'has', 'been', 'declared', 'a', 'national', 'holiday.', 'We', 'celebrate', 'this', 'day', 'because', 'we', 'got', 'our', 'constitution', 'on', 'this', 'day.', 'It', 'took', '2', 'years,', '11', 'months,', 'and', '18', 'days', 'to', 'make', 'our', 'constitution', 'and', 'was', 'completed', 'by', '26', 'November', '1949.', 'We', 'also', 'celebrate', '26', 'November', 'as', 'our', 'Constitution', 'day.', 'On', '26', 'January', '1950,', 'it', 'was', 'announced', 'to', 'enforce', 'our', 'Constitution', 'for', 'the', 'first', 'time.', 'We', 'celebrate', 'this', 'occasion', 'with', 'great', 'enthusiasm', 'and', 'Delhi', 'is', 'the', 'center', 'of', 'the', 'Republic', 'Day', 'celebration.', 'India', 'will', 'celebrate', 'its', '73rd', 'Republic', 'Day', 'in', 'the', 'year', '2022.', 'The', 'cultural', 'programs', 'will', 'be', 'fewer', 'in', 'number', 'and', 'protocols', 'for', 'COVID-19', 'will', 'be', 'followed', 'strictly.', 'The', 'programme', 'on', 'Rajpath', 'includes', 'a', 'small', 'Parade', 'by', 'various', 'armed', 'forces', 'that', 'will', 'be', 'fewer', 'in', 'number.', 'Children', 'under', 'the', 'age', 'of', '15', 'are', 'strictly', 'prohibited', 'to', 'attend', 'the', 'ceremony.', 'People', 'every', 'year', 'visit', 'Delhi', 'to', 'see', 'this', 'programme', 'but', 'this', 'year', 'only', 'a', 'few', 'spectators', 'are', 'allowed', 'to', 'watch', 'the', 'event', 'to', 'avoid', 'overcrowding', 'amid', 'the', 'pandemic.', 'We', 'can', 'also', 'watch', 'the', 'live', 'telecast', 'of', 'the', 'programme', 'on', 'the', 'national', 'channel', 'Doordarshan.', 'Generally,', 'schools', 'also', 'celebrate', 'this', 'occasion', 'and', 'organize', 'various', 'programmes.', 'People', 'all', 'over', 'India', 'celebrate', 'this', 'event', 'by', 'hoisting', 'the', 'flag', 'and', 'distributing', 'sweets.', 'Sometimes', 'they', 'also', 'wear', 'tricolors', 'and', 'play', 'patriotic', 'songs', 'and', 'enjoy', 'their', 'day.', 'This', 'year', 'the', 'republic', 'day', 'celebration', 'will', 'be', 'done', 'in', 'the', 'pandemic', 'situation', 'and', 'therefore', 'the', 'way', 'of', 'celebrating', 'the', 'event', 'is', 'changed.', 'It', 'is', 'necessary', 'to', 'remain', 'safe', 'rather', 'than', 'taking', 'risks.'] \n",
      "\n",
      "Pairs (Words and Frequencies:\n",
      " [('India', 3), ('Republic', 3), ('Day', 3), ('is', 4), ('celebrated', 1), ('on', 5), ('26', 4), ('January', 2), ('every', 2), ('year.', 1), ('It', 3), ('was', 5), ('1950', 2), ('when', 1), ('Dr.', 1), ('Rajendra', 1), ('Prasad', 1), ('our', 6), ('first', 3), ('president', 1), ('hoisted', 1), ('the', 22), ('tricolor', 1), ('on', 5), ('Rajpath,', 1), ('Delhi.', 1), ('Our', 1), ('first', 3), ('chief', 1), ('guest', 2), ('was', 5), ('the', 22), ('President', 1), ('of', 8), ('Indonesia,', 1), ('Mr.', 1), ('Sukarno.', 1), ('Similarly,', 1), ('in', 5), ('2021', 1), ('Boris', 1), ('Johnson,', 1), ('Prime', 1), ('Minister', 1), ('of', 8), ('the', 22), ('United', 1), ('Kingdom', 1), ('was', 5), ('invited', 1), ('as', 2), ('a', 5), ('guest', 2), ('of', 8), ('honor', 1), ('but', 2), ('the', 22), ('planning', 1), ('has', 2), ('been', 3), ('recently', 1), ('canceled', 1), ('due', 1), ('to', 9), ('the', 22), ('corona', 1), ('crisis.', 1), ('Every', 1), ('year', 6), ('we', 2), ('invite', 1), ('various', 3), ('famous', 1), ('personalities', 1), ('to', 9), ('be', 5), ('a', 5), ('part', 1), ('of', 8), ('our', 6), ('celebration.', 2), ('We', 5), ('have', 1), ('been', 3), ('celebrating', 2), ('this', 8), ('occasion', 3), ('since', 1), ('the', 22), ('year', 6), ('1950', 2), ('and', 10), ('it', 2), ('has', 2), ('been', 3), ('declared', 1), ('a', 5), ('national', 2), ('holiday.', 1), ('We', 5), ('celebrate', 6), ('this', 8), ('day', 2), ('because', 1), ('we', 2), ('got', 1), ('our', 6), ('constitution', 2), ('on', 5), ('this', 8), ('day.', 3), ('It', 3), ('took', 1), ('2', 1), ('years,', 1), ('11', 1), ('months,', 1), ('and', 10), ('18', 1), ('days', 1), ('to', 9), ('make', 1), ('our', 6), ('constitution', 2), ('and', 10), ('was', 5), ('completed', 1), ('by', 3), ('26', 4), ('November', 2), ('1949.', 1), ('We', 5), ('also', 4), ('celebrate', 6), ('26', 4), ('November', 2), ('as', 2), ('our', 6), ('Constitution', 2), ('day.', 3), ('On', 1), ('26', 4), ('January', 2), ('1950,', 1), ('it', 2), ('was', 5), ('announced', 1), ('to', 9), ('enforce', 1), ('our', 6), ('Constitution', 2), ('for', 2), ('the', 22), ('first', 3), ('time.', 1), ('We', 5), ('celebrate', 6), ('this', 8), ('occasion', 3), ('with', 1), ('great', 1), ('enthusiasm', 1), ('and', 10), ('Delhi', 2), ('is', 4), ('the', 22), ('center', 1), ('of', 8), ('the', 22), ('Republic', 3), ('Day', 3), ('celebration.', 2), ('India', 3), ('will', 5), ('celebrate', 6), ('its', 1), ('73rd', 1), ('Republic', 3), ('Day', 3), ('in', 5), ('the', 22), ('year', 6), ('2022.', 1), ('The', 2), ('cultural', 1), ('programs', 1), ('will', 5), ('be', 5), ('fewer', 2), ('in', 5), ('number', 1), ('and', 10), ('protocols', 1), ('for', 2), ('COVID-19', 1), ('will', 5), ('be', 5), ('followed', 1), ('strictly.', 1), ('The', 2), ('programme', 3), ('on', 5), ('Rajpath', 1), ('includes', 1), ('a', 5), ('small', 1), ('Parade', 1), ('by', 3), ('various', 3), ('armed', 1), ('forces', 1), ('that', 1), ('will', 5), ('be', 5), ('fewer', 2), ('in', 5), ('number.', 1), ('Children', 1), ('under', 1), ('the', 22), ('age', 1), ('of', 8), ('15', 1), ('are', 2), ('strictly', 1), ('prohibited', 1), ('to', 9), ('attend', 1), ('the', 22), ('ceremony.', 1), ('People', 2), ('every', 2), ('year', 6), ('visit', 1), ('Delhi', 2), ('to', 9), ('see', 1), ('this', 8), ('programme', 3), ('but', 2), ('this', 8), ('year', 6), ('only', 1), ('a', 5), ('few', 1), ('spectators', 1), ('are', 2), ('allowed', 1), ('to', 9), ('watch', 2), ('the', 22), ('event', 3), ('to', 9), ('avoid', 1), ('overcrowding', 1), ('amid', 1), ('the', 22), ('pandemic.', 1), ('We', 5), ('can', 1), ('also', 4), ('watch', 2), ('the', 22), ('live', 1), ('telecast', 1), ('of', 8), ('the', 22), ('programme', 3), ('on', 5), ('the', 22), ('national', 2), ('channel', 1), ('Doordarshan.', 1), ('Generally,', 1), ('schools', 1), ('also', 4), ('celebrate', 6), ('this', 8), ('occasion', 3), ('and', 10), ('organize', 1), ('various', 3), ('programmes.', 1), ('People', 2), ('all', 1), ('over', 1), ('India', 3), ('celebrate', 6), ('this', 8), ('event', 3), ('by', 3), ('hoisting', 1), ('the', 22), ('flag', 1), ('and', 10), ('distributing', 1), ('sweets.', 1), ('Sometimes', 1), ('they', 1), ('also', 4), ('wear', 1), ('tricolors', 1), ('and', 10), ('play', 1), ('patriotic', 1), ('songs', 1), ('and', 10), ('enjoy', 1), ('their', 1), ('day.', 3), ('This', 1), ('year', 6), ('the', 22), ('republic', 1), ('day', 2), ('celebration', 1), ('will', 5), ('be', 5), ('done', 1), ('in', 5), ('the', 22), ('pandemic', 1), ('situation', 1), ('and', 10), ('therefore', 1), ('the', 22), ('way', 1), ('of', 8), ('celebrating', 2), ('the', 22), ('event', 3), ('is', 4), ('changed.', 1), ('It', 3), ('is', 4), ('necessary', 1), ('to', 9), ('remain', 1), ('safe', 1), ('rather', 1), ('than', 1), ('taking', 1), ('risks.', 1)]\n"
     ]
    }
   ],
   "source": [
    "#6. Write a Python program to print a long text, convert the string to a list and print all the words and their frequencies.\n",
    "string_words = '''India Republic Day is celebrated on 26 January every year. It was 1950 when Dr. Rajendra Prasad our first president hoisted the tricolor on Rajpath, Delhi. Our first chief guest was the President of Indonesia, Mr. Sukarno. Similarly, in 2021 Boris Johnson, Prime Minister of the United Kingdom was invited as a guest of honor but the planning has been recently canceled due to the corona crisis. Every year we invite various famous personalities to be a part of our celebration.\n",
    "\n",
    "We have been celebrating this occasion since the year 1950 and it has been declared a national holiday. We celebrate this day because we got our constitution on this day. It took 2 years, 11 months, and 18 days to make our constitution and was completed by 26 November 1949. We also celebrate 26 November as our Constitution day. On 26 January 1950, it was announced to enforce our Constitution for the first time.\n",
    "\n",
    "We celebrate this occasion with great enthusiasm and Delhi is the center of the Republic Day celebration. India will celebrate its 73rd Republic Day in the year 2022. The cultural programs will be fewer in number and protocols for COVID-19 will be followed strictly.\n",
    "\n",
    "The programme on Rajpath includes a small Parade by various armed forces that will be fewer in number. Children under the age of 15 are strictly prohibited to attend the ceremony. People every year visit Delhi to see this programme but this year only a few spectators are allowed to watch the event to avoid overcrowding amid the pandemic. We can also watch the live telecast of the programme on the national channel Doordarshan.\n",
    "\n",
    "Generally, schools also celebrate this occasion and organize various programmes. People all over India celebrate this event by hoisting the flag and distributing sweets. Sometimes they also wear tricolors and play patriotic songs and enjoy their day. This year the republic day celebration will be done in the pandemic situation and therefore the way of celebrating the event is changed. It is necessary to remain safe rather than taking risks.'''\n",
    "word_list = string_words.split()\n",
    "\n",
    "word_freq = [word_list.count(n) for n in word_list]\n",
    "\n",
    "print(\"String:\\n {} \\n\".format(string_words))\n",
    "print(\"List:\\n {} \\n\".format(str(word_list)))\n",
    "print(\"Pairs (Words and Frequencies:\\n {}\".format(str(list(zip(word_list, word_freq)))))"
   ]
  },
  {
   "cell_type": "code",
   "execution_count": 9,
   "id": "38b0376d",
   "metadata": {},
   "outputs": [
    {
     "name": "stdout",
     "output_type": "stream",
     "text": [
      "188\n"
     ]
    }
   ],
   "source": [
    "#14. Write a Python program to add two positive integers without using the '+' operator. Go to the editor\n",
    "#Note: Use bit wise operations to add two numbers.\n",
    "def Add(x, y):\n",
    "    while (y != 0):\n",
    "        carry = x & y\n",
    " \n",
    "        x = x ^ y\n",
    "        y = carry << 1\n",
    "    return x\n",
    "print(Add(156, 32))"
   ]
  },
  {
   "cell_type": "code",
   "execution_count": null,
   "id": "b860f3d2",
   "metadata": {},
   "outputs": [],
   "source": []
  }
 ],
 "metadata": {
  "kernelspec": {
   "display_name": "Python 3 (ipykernel)",
   "language": "python",
   "name": "python3"
  },
  "language_info": {
   "codemirror_mode": {
    "name": "ipython",
    "version": 3
   },
   "file_extension": ".py",
   "mimetype": "text/x-python",
   "name": "python",
   "nbconvert_exporter": "python",
   "pygments_lexer": "ipython3",
   "version": "3.8.10"
  }
 },
 "nbformat": 4,
 "nbformat_minor": 5
}
